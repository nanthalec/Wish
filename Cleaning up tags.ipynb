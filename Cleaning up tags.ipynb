{
 "cells": [
  {
   "cell_type": "code",
   "execution_count": 1,
   "metadata": {},
   "outputs": [],
   "source": [
    "import numpy as np \n",
    "import pandas as pd\n",
    "from matplotlib import pyplot as plt\n",
    "import seaborn as sns"
   ]
  },
  {
   "cell_type": "code",
   "execution_count": 2,
   "metadata": {},
   "outputs": [],
   "source": [
    "# original data from kaggle\n",
    "sort_tag = pd.read_csv('/Users/galvanize/Desktop/final_project/unique-categories.sorted-by-count.csv')"
   ]
  },
  {
   "cell_type": "code",
   "execution_count": 3,
   "metadata": {},
   "outputs": [
    {
     "name": "stdout",
     "output_type": "stream",
     "text": [
      "<class 'pandas.core.frame.DataFrame'>\n",
      "RangeIndex: 2620 entries, 0 to 2619\n",
      "Data columns (total 2 columns):\n",
      " #   Column   Non-Null Count  Dtype \n",
      "---  ------   --------------  ----- \n",
      " 0   count    2620 non-null   int64 \n",
      " 1   keyword  2620 non-null   object\n",
      "dtypes: int64(1), object(1)\n",
      "memory usage: 41.1+ KB\n"
     ]
    }
   ],
   "source": [
    "sort_tag.info()"
   ]
  },
  {
   "cell_type": "code",
   "execution_count": 4,
   "metadata": {},
   "outputs": [
    {
     "data": {
      "text/plain": [
       "tankdre              1\n",
       "Yellow               1\n",
       "sequinsnailgel       1\n",
       "Garden               1\n",
       "Maternity Dresses    1\n",
       "                    ..\n",
       "deepvneckvest        1\n",
       "tank tops women      1\n",
       "trendshirtwomen      1\n",
       "solidcolordre        1\n",
       "armpit               1\n",
       "Name: keyword, Length: 2620, dtype: int64"
      ]
     },
     "execution_count": 4,
     "metadata": {},
     "output_type": "execute_result"
    }
   ],
   "source": [
    "sort_tag['keyword'].value_counts()"
   ]
  },
  {
   "cell_type": "code",
   "execution_count": null,
   "metadata": {},
   "outputs": [],
   "source": [
    " # clean up the tags file"
   ]
  },
  {
   "cell_type": "code",
   "execution_count": 5,
   "metadata": {},
   "outputs": [],
   "source": [
    "sort_tag['keyword'] = sort_tag['keyword'].replace(['shorts','yogashort','sleevelessshort','sportsshort','womenminishort',\n",
    "                                                   'rippedshort','cottonshortsleeve','shortjumpsuit','Womens shorts',\n",
    "                                                   'shorts feminino','summershortpant','drawstringshort','sknnyshort',\n",
    "                                                   'gymshort','camishort','Short Sleeved ','skinnyshort',\n",
    "                                                   'boxer shorts','trousersampshort','laceshort','athleticshortsmen',\n",
    "                                                   'shortskirtsdresse',\n",
    "'women shorts','Shorts','solidcolorshort','gymshortssportpant','jumpsuitshort','jean short','Denim Shorts','shortjean',\n",
    "'womenshortspant','short-s jeans','rompersshort','shortromper','casualshortpant','trainingquickdryshort',\n",
    "'womencasualshort','quickdryingshort','camouflageshort','Beach Shorts','velvetshort','looseshort','summer shorts',\n",
    "'jeansshort','elasticshort','baggyshort','short leggings','casualsummersportsshort','tracksuitshort','shortsection',\n",
    "'Beach Shorts Women','Short pants','athleticshort','pantsshort','Beach Shorts Women','Short pants','athleticshort',\n",
    "'beachlooseshort','Trousers & Shorts','minishort','sailboatshort','shortsforwomen','fashionwomensummershort',\n",
    "'camouflageshortsforwomen','compressionshort','casualshortswomen','short skirt skorts','womenshortpan','stretchshort',\n",
    "'women fashion shorts','high waisted shorts','bermudashort','womenshortpant','sexyshort','bodybuildingshort',\n",
    "'runningshort','sportshort','surfshort','summershortsforwomen','high waist shorts','summershortswomen','#fashion #shorts',\n",
    "'casualshort','womensummershort','strappingshort','elasticwaistshort','fitnessshort'],'Shorts')"
   ]
  },
  {
   "cell_type": "code",
   "execution_count": 6,
   "metadata": {},
   "outputs": [],
   "source": [
    "sort_tag['keyword'] = sort_tag['keyword'].replace(['plussizeclothe',\"women's plus size fashion\",'plus size monokini',\n",
    "                                                   'plus','sexyplussizetankini','plus size bikinis',\n",
    "                                                   'plussizemaxidresse','Plus size top','plussizeshortsforwomen',\n",
    "                                                  'plus size bathing suits','plussizetshirt','plussizeshort',\n",
    "                                                   'plussizepant','plussizevest','plus size dress','plus size dress',\n",
    "                                                   'pantsplussize','plus size hippie dresses','Plus Size Fashions',\n",
    "                                                   'plus size jeans','plussizejumpsuit','plus size dresses',\n",
    "                                                   'plussizetanktop','Plus Size Swimwear',\n",
    "                                                   'plus size bathing suits for women','plusszie',\n",
    "                                                   'plussizeskirt','plussizeshirt'],'Plus Size')\n"
   ]
  },
  {
   "cell_type": "code",
   "execution_count": 7,
   "metadata": {},
   "outputs": [],
   "source": [
    "sort_tag['keyword'] = sort_tag['keyword'].replace(['whiskeytshirt','t-shirt','coupletshirt','tshirtandshortsset',\n",
    "                                                  'tshirtcasualtop','tshirtcotton','#fashion #tshirt',\n",
    "                                                   'butterflytshirt','tiedyetshirt','beachtshirt','tshirtsuit',\n",
    "                                                   'blacktshirt','sporttshirt','animalprotectiontshirt',\n",
    "                                                   'Sexy Tshirt','womencausaltshirt','3dprintedtshirt',\n",
    "                                                   'shorttshirt','tshirtandtop','camouflagetshirt','hippietshirt',\n",
    "                                                   'tshirtsfemme','basictshirt','tshirts for women','fathertshirt',\n",
    "                                                   'christiantshirt'\n",
    "                                                  ],'T-Shirt')"
   ]
  },
  {
   "cell_type": "code",
   "execution_count": 8,
   "metadata": {},
   "outputs": [],
   "source": [
    "sort_tag['keyword'] = sort_tag['keyword'].replace(['Penguin','suzuki','hippie','Indoor Slippers',\n",
    "                                                   'picnicmat','Chain','clothingampaccessorie','sprayer,',\n",
    "                                                   'usbcooler','Shaving & Hair Removal','漁師の帽子',\n",
    "                                                  'armpit','Face Mask'],'other')\n",
    "\n",
    "sort_tag['keyword'] = sort_tag['keyword'].replace(['jumpsuitforwomen','Overalls'],'jumpsuit')\n",
    "\n",
    "sort_tag['keyword'] = sort_tag['keyword'].replace(['sexyblousetop','ruffledtop','printedtop','shouldertop',\n",
    "                                                   'basictee','strappytop','tops shirts for women'], 'top')\n",
    "\n",
    "sort_tag['keyword'] = sort_tag['keyword'].replace(['lipsshirt','blousesampshirt','bikiniblouse','long sleeve blouse','short sleeves'\n",
    "                                                   'letterprintedshirt','doglovershirt',''\n",
    "                                                   'comfortableshirt','juicewrldshirt','pineappleshirtwomen','funnyshirt',\n",
    "                                                   'vneckshirt','Polyester Shirt','fashion shirt','floral shirt','loose shirt',\n",
    "                                                   'christianshirt','plaid shirt','Sweatshirts','basictshirt'], 'shirt')\n",
    "\n",
    "sort_tag['keyword'] = sort_tag['keyword'].replace(['t shirt printing','Casual T-Shirt','letterprinttshirt','T Shirts',\n",
    "                                                   'punktshirt','tshirtforwomen','croptoptshirt','chiffontshirt',\n",
    "                                                   'summerfashiontshirt','3dprinttshirt','tiktoktshirt','teeshirthomme',\n",
    "                                                   'flamingotshirt','coffeetshirt','Cotton T Shirt','beetshirt',\n",
    "                                                  '3D T-shirt','Printed T Shirts','onecktshirt','faithtshirt','teesamptshirt',\n",
    "                                                  'bohotshirt','gymstighttshirt','summershortsleevetshirt',\n",
    "                                                   'crew neck sweatshirts for women','cowlbacktshirt','mamatshirt',\n",
    "                                                   'retrotshirt','loveprinttshirt','womentee','herrenpolotshirt','pregnantshirt',\n",
    "                                                  'sunmmertshirt','femaletshirt','topsamptshirt','taeeltshirt','short sleeved tshirt',\n",
    "                                                   'pawprinttshirt',''], 't-shirt')\n",
    "\n",
    "sort_tag['keyword'] = sort_tag['keyword'].replace(['solidtank','lacepaneltanktop','tiedyetank','womens tank tops',\n",
    "                                                  'hollowouttanktop','Women Sleeveless Top','ruchedtank',\n",
    "                                                   'spaghettistraptshirt','haltertshirt','sleevelesstshirt'], 'tank')\n",
    "\n",
    "sort_tag['keyword'] = sort_tag['keyword'].replace(['sleeve chiffon',], 'sleeve')\n",
    "\n",
    "sort_tag['keyword'] = sort_tag['keyword'].replace(['mensshortpant','Men',\"men's dress shirt\",'mens Trousers',\n",
    "                                                   'mensfitnessshirt','Mens T Shirt','casualshirtformen','Cotton Mens Shirts',\n",
    "                                                  'casualmensshirt','hirts for men','mensummertshirt',\n",
    "                                                   'mensfitnesstshirt','ShortsMen','menscasulshort','2014menshort',\n",
    "                                                  'menssolidcolorshort','shortsformen'], 'mens')\n",
    "\n",
    "sort_tag['keyword'] = sort_tag['keyword'].replace(['cargoshort','denimjeansshort','yogashort,sportsshort',\n",
    "                                                   'midshort',], 'shorts')\n",
    "\n",
    "sort_tag['keyword'] = sort_tag['keyword'].replace(['soliddresse','mini dresses','casualdressesforwomen',\n",
    "                                                   'beachlacesleevelessdres','splitbohodre','Vintage dress',\n",
    "                                                   'womenbohemiandre','candycolordres','summercasualdres',\n",
    "                                                  'one shoulder dress','slingdres','flowerlacedre','bohemian dress',\n",
    "                                                  'short sleeve dress','shortsleevesdres','shortsdresse',\n",
    "                                                   'sexyshortdresse','womenshortsleevedre','shortsleevesdre'],'dress')\n",
    "                                                                             \n",
    "sort_tag['keyword'] = sort_tag['keyword'].replace(['fivepant','trouserswomen','silmfit','siamesetrouser',''], 'pants')\n",
    "\n",
    "sort_tag['keyword'] = sort_tag['keyword'].replace(['summersuitset ','springandsummer',''], 'summer')\n",
    "sort_tag['keyword'] = sort_tag['keyword'].replace(['beachwera ','',''], 'beach')\n",
    "\n",
    "                                                                            \n",
    "\n",
    "sort_tag['keyword'] = sort_tag['keyword'].replace(['bohostyle',''], 'style')\n",
    "                                                                    \n",
    "sort_tag['keyword'] = sort_tag['keyword'].replace(['Tankini Swimsuits','fashion swimsuit','swimmingbottom',\n",
    "                                                  'Bikinis Set','bikinis women','Bikini Cover-Up','swimmingshort'], 'swimsuits')\n",
    "\n",
    "sort_tag['keyword'] = sort_tag['keyword'].replace(['womensportoutfit','brassierefemme','Woman clothes'], 'women')\n",
    "\n",
    "sort_tag['keyword'] = sort_tag['keyword'].replace(['personalizedvest','basicvestido','summersportsvest',''], 'vest')\n",
    "\n",
    "sort_tag['keyword'] = sort_tag['keyword'].replace(['maxi skirt','sleevelessskirt','a-line skirt','Pleated Skirt',\n",
    "                                                  'fluffyshortskirt'], 'skirt')\n",
    "\n",
    "sort_tag['keyword'] = sort_tag['keyword'].replace(['tasselslingerie','womennightwear','lacebralette',\n",
    "                                                  ], 'night wear')\n"
   ]
  },
  {
   "cell_type": "code",
   "execution_count": null,
   "metadata": {},
   "outputs": [],
   "source": []
  }
 ],
 "metadata": {
  "kernelspec": {
   "display_name": "Python 3",
   "language": "python",
   "name": "python3"
  },
  "language_info": {
   "codemirror_mode": {
    "name": "ipython",
    "version": 3
   },
   "file_extension": ".py",
   "mimetype": "text/x-python",
   "name": "python",
   "nbconvert_exporter": "python",
   "pygments_lexer": "ipython3",
   "version": "3.7.7"
  }
 },
 "nbformat": 4,
 "nbformat_minor": 4
}
