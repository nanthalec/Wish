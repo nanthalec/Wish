{
 "cells": [
  {
   "cell_type": "code",
   "execution_count": 1,
   "metadata": {},
   "outputs": [],
   "source": [
    "import numpy as np \n",
    "import pandas as pd\n",
    "from matplotlib import pyplot as plt\n",
    "import seaborn as sns"
   ]
  },
  {
   "cell_type": "code",
   "execution_count": 3,
   "metadata": {},
   "outputs": [],
   "source": [
    "# original data from kaggle\n",
    "sales = pd.read_csv('/Users/galvanize/Desktop/final_project/data/summer-products-with-rating-and-performance_2020-08.csv')"
   ]
  },
  {
   "cell_type": "code",
   "execution_count": 4,
   "metadata": {},
   "outputs": [],
   "source": [
    "# original data from kaggle\n",
    "unique_tag = pd.read_csv('/Users/galvanize/Desktop/final_project/data/unique-categories_tags.csv')"
   ]
  },
  {
   "cell_type": "code",
   "execution_count": 5,
   "metadata": {},
   "outputs": [
    {
     "name": "stdout",
     "output_type": "stream",
     "text": [
      "<class 'pandas.core.frame.DataFrame'>\n",
      "RangeIndex: 1573 entries, 0 to 1572\n",
      "Data columns (total 43 columns):\n",
      " #   Column                        Non-Null Count  Dtype  \n",
      "---  ------                        --------------  -----  \n",
      " 0   title                         1573 non-null   object \n",
      " 1   title_orig                    1573 non-null   object \n",
      " 2   price                         1573 non-null   float64\n",
      " 3   retail_price                  1573 non-null   int64  \n",
      " 4   currency_buyer                1573 non-null   object \n",
      " 5   units_sold                    1573 non-null   int64  \n",
      " 6   uses_ad_boosts                1573 non-null   int64  \n",
      " 7   rating                        1573 non-null   float64\n",
      " 8   rating_count                  1573 non-null   int64  \n",
      " 9   rating_five_count             1528 non-null   float64\n",
      " 10  rating_four_count             1528 non-null   float64\n",
      " 11  rating_three_count            1528 non-null   float64\n",
      " 12  rating_two_count              1528 non-null   float64\n",
      " 13  rating_one_count              1528 non-null   float64\n",
      " 14  badges_count                  1573 non-null   int64  \n",
      " 15  badge_local_product           1573 non-null   int64  \n",
      " 16  badge_product_quality         1573 non-null   int64  \n",
      " 17  badge_fast_shipping           1573 non-null   int64  \n",
      " 18  tags                          1573 non-null   object \n",
      " 19  product_color                 1532 non-null   object \n",
      " 20  product_variation_size_id     1559 non-null   object \n",
      " 21  product_variation_inventory   1573 non-null   int64  \n",
      " 22  shipping_option_name          1573 non-null   object \n",
      " 23  shipping_option_price         1573 non-null   int64  \n",
      " 24  shipping_is_express           1573 non-null   int64  \n",
      " 25  countries_shipped_to          1573 non-null   int64  \n",
      " 26  inventory_total               1573 non-null   int64  \n",
      " 27  has_urgency_banner            473 non-null    float64\n",
      " 28  urgency_text                  473 non-null    object \n",
      " 29  origin_country                1556 non-null   object \n",
      " 30  merchant_title                1573 non-null   object \n",
      " 31  merchant_name                 1569 non-null   object \n",
      " 32  merchant_info_subtitle        1572 non-null   object \n",
      " 33  merchant_rating_count         1573 non-null   int64  \n",
      " 34  merchant_rating               1573 non-null   float64\n",
      " 35  merchant_id                   1573 non-null   object \n",
      " 36  merchant_has_profile_picture  1573 non-null   int64  \n",
      " 37  merchant_profile_picture      226 non-null    object \n",
      " 38  product_url                   1573 non-null   object \n",
      " 39  product_picture               1573 non-null   object \n",
      " 40  product_id                    1573 non-null   object \n",
      " 41  theme                         1573 non-null   object \n",
      " 42  crawl_month                   1573 non-null   object \n",
      "dtypes: float64(9), int64(15), object(19)\n",
      "memory usage: 528.6+ KB\n"
     ]
    }
   ],
   "source": [
    "#sales.describe()\n",
    "#sales.head()\n",
    "sales.info()"
   ]
  },
  {
   "cell_type": "code",
   "execution_count": 1,
   "metadata": {},
   "outputs": [],
   "source": [
    "# commit"
   ]
  },
  {
   "cell_type": "code",
   "execution_count": null,
   "metadata": {},
   "outputs": [],
   "source": []
  },
  {
   "cell_type": "markdown",
   "metadata": {},
   "source": [
    "# Cleaning Data"
   ]
  },
  {
   "cell_type": "markdown",
   "metadata": {},
   "source": [
    "Below are different things I have done to clean up the data"
   ]
  },
  {
   "cell_type": "code",
   "execution_count": 6,
   "metadata": {},
   "outputs": [
    {
     "data": {
      "text/plain": [
       "rating_five_count              45\n",
       "rating_four_count              45\n",
       "rating_three_count             45\n",
       "rating_two_count               45\n",
       "rating_one_count               45\n",
       "product_color                  41\n",
       "product_variation_size_id      14\n",
       "has_urgency_banner           1100\n",
       "urgency_text                 1100\n",
       "origin_country                 17\n",
       "merchant_name                   4\n",
       "merchant_info_subtitle          1\n",
       "merchant_profile_picture     1347\n",
       "dtype: int64"
      ]
     },
     "execution_count": 6,
     "metadata": {},
     "output_type": "execute_result"
    }
   ],
   "source": [
    "# see we have some nulls\n",
    "sales.isnull().sum()[sales.isnull().sum() !=0]"
   ]
  },
  {
   "cell_type": "markdown",
   "metadata": {},
   "source": [
    "# 1. Replace NA with 0\n"
   ]
  },
  {
   "cell_type": "code",
   "execution_count": 7,
   "metadata": {},
   "outputs": [],
   "source": [
    "#For the ratings I don't want to get rid of the rows and the nulls are important information.  I will replace with 0\n",
    "# rating features\n",
    "sales['rating_five_count'].replace(np.nan, 0, inplace=True)\n",
    "sales['rating_four_count'].replace(np.nan, 0, inplace=True)\n",
    "sales['rating_three_count'].replace(np.nan, 0, inplace=True)\n",
    "sales['rating_two_count'].replace(np.nan, 0, inplace=True)\n",
    "sales['rating_one_count'].replace(np.nan, 0, inplace=True)\n",
    "sales['merchant_profile_picture'].replace(np.nan, 0, inplace=True)\n",
    "sales['has_urgency_banner'].replace(np.nan, 0, inplace=True)\n",
    "sales['product_color'].replace(np.nan, 0, inplace=True)\n",
    "sales['urgency_text'].replace(np.nan, 0, inplace=True)\n",
    "sales['origin_country'].replace(np.nan, 0, inplace=True)\n",
    "\n"
   ]
  },
  {
   "cell_type": "code",
   "execution_count": 8,
   "metadata": {},
   "outputs": [
    {
     "data": {
      "text/plain": [
       "product_variation_size_id    14\n",
       "merchant_name                 4\n",
       "merchant_info_subtitle        1\n",
       "dtype: int64"
      ]
     },
     "execution_count": 8,
     "metadata": {},
     "output_type": "execute_result"
    }
   ],
   "source": [
    "sales.isnull().sum()[sales.isnull().sum() !=0]"
   ]
  },
  {
   "cell_type": "code",
   "execution_count": 9,
   "metadata": {},
   "outputs": [
    {
     "name": "stdout",
     "output_type": "stream",
     "text": [
      "<class 'pandas.core.frame.DataFrame'>\n",
      "RangeIndex: 1573 entries, 0 to 1572\n",
      "Data columns (total 43 columns):\n",
      " #   Column                        Non-Null Count  Dtype  \n",
      "---  ------                        --------------  -----  \n",
      " 0   title                         1573 non-null   object \n",
      " 1   title_orig                    1573 non-null   object \n",
      " 2   price                         1573 non-null   float64\n",
      " 3   retail_price                  1573 non-null   int64  \n",
      " 4   currency_buyer                1573 non-null   object \n",
      " 5   units_sold                    1573 non-null   int64  \n",
      " 6   uses_ad_boosts                1573 non-null   int64  \n",
      " 7   rating                        1573 non-null   float64\n",
      " 8   rating_count                  1573 non-null   int64  \n",
      " 9   rating_five_count             1573 non-null   float64\n",
      " 10  rating_four_count             1573 non-null   float64\n",
      " 11  rating_three_count            1573 non-null   float64\n",
      " 12  rating_two_count              1573 non-null   float64\n",
      " 13  rating_one_count              1573 non-null   float64\n",
      " 14  badges_count                  1573 non-null   int64  \n",
      " 15  badge_local_product           1573 non-null   int64  \n",
      " 16  badge_product_quality         1573 non-null   int64  \n",
      " 17  badge_fast_shipping           1573 non-null   int64  \n",
      " 18  tags                          1573 non-null   object \n",
      " 19  product_color                 1573 non-null   object \n",
      " 20  product_variation_size_id     1559 non-null   object \n",
      " 21  product_variation_inventory   1573 non-null   int64  \n",
      " 22  shipping_option_name          1573 non-null   object \n",
      " 23  shipping_option_price         1573 non-null   int64  \n",
      " 24  shipping_is_express           1573 non-null   int64  \n",
      " 25  countries_shipped_to          1573 non-null   int64  \n",
      " 26  inventory_total               1573 non-null   int64  \n",
      " 27  has_urgency_banner            1573 non-null   float64\n",
      " 28  urgency_text                  1573 non-null   object \n",
      " 29  origin_country                1573 non-null   object \n",
      " 30  merchant_title                1573 non-null   object \n",
      " 31  merchant_name                 1569 non-null   object \n",
      " 32  merchant_info_subtitle        1572 non-null   object \n",
      " 33  merchant_rating_count         1573 non-null   int64  \n",
      " 34  merchant_rating               1573 non-null   float64\n",
      " 35  merchant_id                   1573 non-null   object \n",
      " 36  merchant_has_profile_picture  1573 non-null   int64  \n",
      " 37  merchant_profile_picture      1573 non-null   object \n",
      " 38  product_url                   1573 non-null   object \n",
      " 39  product_picture               1573 non-null   object \n",
      " 40  product_id                    1573 non-null   object \n",
      " 41  theme                         1573 non-null   object \n",
      " 42  crawl_month                   1573 non-null   object \n",
      "dtypes: float64(9), int64(15), object(19)\n",
      "memory usage: 528.6+ KB\n"
     ]
    }
   ],
   "source": [
    "sales.info()\n",
    "#sales.head()\n",
    "#sales.describe()"
   ]
  },
  {
   "cell_type": "markdown",
   "metadata": {},
   "source": [
    "# 2.  data types"
   ]
  },
  {
   "cell_type": "code",
   "execution_count": 10,
   "metadata": {},
   "outputs": [
    {
     "data": {
      "text/plain": [
       "price                 float64\n",
       "rating                float64\n",
       "rating_five_count     float64\n",
       "rating_four_count     float64\n",
       "rating_three_count    float64\n",
       "rating_two_count      float64\n",
       "rating_one_count      float64\n",
       "has_urgency_banner    float64\n",
       "merchant_rating       float64\n",
       "dtype: object"
      ]
     },
     "execution_count": 10,
     "metadata": {},
     "output_type": "execute_result"
    }
   ],
   "source": [
    "#sales.dtypes[sales.dtypes == 'int']\n",
    "#sales.dtypes[sales.dtypes == 'object']\n",
    "sales.dtypes[sales.dtypes == 'float']"
   ]
  },
  {
   "cell_type": "markdown",
   "metadata": {},
   "source": [
    "# 3. Delete duplicate rows"
   ]
  },
  {
   "cell_type": "code",
   "execution_count": 11,
   "metadata": {},
   "outputs": [
    {
     "name": "stdout",
     "output_type": "stream",
     "text": [
      "<class 'pandas.core.frame.DataFrame'>\n",
      "Int64Index: 1341 entries, 0 to 1572\n",
      "Data columns (total 43 columns):\n",
      " #   Column                        Non-Null Count  Dtype  \n",
      "---  ------                        --------------  -----  \n",
      " 0   title                         1341 non-null   object \n",
      " 1   title_orig                    1341 non-null   object \n",
      " 2   price                         1341 non-null   float64\n",
      " 3   retail_price                  1341 non-null   int64  \n",
      " 4   currency_buyer                1341 non-null   object \n",
      " 5   units_sold                    1341 non-null   int64  \n",
      " 6   uses_ad_boosts                1341 non-null   int64  \n",
      " 7   rating                        1341 non-null   float64\n",
      " 8   rating_count                  1341 non-null   int64  \n",
      " 9   rating_five_count             1341 non-null   float64\n",
      " 10  rating_four_count             1341 non-null   float64\n",
      " 11  rating_three_count            1341 non-null   float64\n",
      " 12  rating_two_count              1341 non-null   float64\n",
      " 13  rating_one_count              1341 non-null   float64\n",
      " 14  badges_count                  1341 non-null   int64  \n",
      " 15  badge_local_product           1341 non-null   int64  \n",
      " 16  badge_product_quality         1341 non-null   int64  \n",
      " 17  badge_fast_shipping           1341 non-null   int64  \n",
      " 18  tags                          1341 non-null   object \n",
      " 19  product_color                 1341 non-null   object \n",
      " 20  product_variation_size_id     1328 non-null   object \n",
      " 21  product_variation_inventory   1341 non-null   int64  \n",
      " 22  shipping_option_name          1341 non-null   object \n",
      " 23  shipping_option_price         1341 non-null   int64  \n",
      " 24  shipping_is_express           1341 non-null   int64  \n",
      " 25  countries_shipped_to          1341 non-null   int64  \n",
      " 26  inventory_total               1341 non-null   int64  \n",
      " 27  has_urgency_banner            1341 non-null   float64\n",
      " 28  urgency_text                  1341 non-null   object \n",
      " 29  origin_country                1341 non-null   object \n",
      " 30  merchant_title                1341 non-null   object \n",
      " 31  merchant_name                 1339 non-null   object \n",
      " 32  merchant_info_subtitle        1340 non-null   object \n",
      " 33  merchant_rating_count         1341 non-null   int64  \n",
      " 34  merchant_rating               1341 non-null   float64\n",
      " 35  merchant_id                   1341 non-null   object \n",
      " 36  merchant_has_profile_picture  1341 non-null   int64  \n",
      " 37  merchant_profile_picture      1341 non-null   object \n",
      " 38  product_url                   1341 non-null   object \n",
      " 39  product_picture               1341 non-null   object \n",
      " 40  product_id                    1341 non-null   object \n",
      " 41  theme                         1341 non-null   object \n",
      " 42  crawl_month                   1341 non-null   object \n",
      "dtypes: float64(9), int64(15), object(19)\n",
      "memory usage: 461.0+ KB\n"
     ]
    }
   ],
   "source": [
    "sales.drop_duplicates(subset =\"product_id\", inplace = True) \n",
    "sales.info()"
   ]
  },
  {
   "cell_type": "markdown",
   "metadata": {},
   "source": [
    "# 4. Urgency Text"
   ]
  },
  {
   "cell_type": "markdown",
   "metadata": {},
   "source": [
    "fix the urgency text column"
   ]
  },
  {
   "cell_type": "code",
   "execution_count": 12,
   "metadata": {},
   "outputs": [],
   "source": [
    "#Change the wording to english for urgency text\n",
    "sales['urgency_text'] = sales['urgency_text'].replace({'Quantité limitée !':'Limited_quantity!', 'Réduction sur les achats en gros':'Discount_on_wholesale_purchases'})"
   ]
  },
  {
   "cell_type": "code",
   "execution_count": 13,
   "metadata": {},
   "outputs": [
    {
     "data": {
      "text/plain": [
       "array(['Limited_quantity!', 0, 'Discount_on_wholesale_purchases'],\n",
       "      dtype=object)"
      ]
     },
     "execution_count": 13,
     "metadata": {},
     "output_type": "execute_result"
    }
   ],
   "source": [
    "sales.urgency_text.unique()"
   ]
  },
  {
   "cell_type": "code",
   "execution_count": 14,
   "metadata": {
    "scrolled": true
   },
   "outputs": [
    {
     "data": {
      "text/plain": [
       "0       Limited_quantity!\n",
       "1       Limited_quantity!\n",
       "2       Limited_quantity!\n",
       "3                       0\n",
       "4       Limited_quantity!\n",
       "              ...        \n",
       "1565    Limited_quantity!\n",
       "1567                    0\n",
       "1568                    0\n",
       "1570                    0\n",
       "1572                    0\n",
       "Name: urgency_text, Length: 1341, dtype: object"
      ]
     },
     "execution_count": 14,
     "metadata": {},
     "output_type": "execute_result"
    }
   ],
   "source": [
    "sales.urgency_text"
   ]
  },
  {
   "cell_type": "markdown",
   "metadata": {},
   "source": [
    "# 5. Revenue"
   ]
  },
  {
   "cell_type": "code",
   "execution_count": 15,
   "metadata": {},
   "outputs": [
    {
     "name": "stdout",
     "output_type": "stream",
     "text": [
      "<class 'pandas.core.frame.DataFrame'>\n",
      "Int64Index: 1341 entries, 0 to 1572\n",
      "Data columns (total 44 columns):\n",
      " #   Column                        Non-Null Count  Dtype  \n",
      "---  ------                        --------------  -----  \n",
      " 0   title                         1341 non-null   object \n",
      " 1   title_orig                    1341 non-null   object \n",
      " 2   price                         1341 non-null   float64\n",
      " 3   retail_price                  1341 non-null   int64  \n",
      " 4   currency_buyer                1341 non-null   object \n",
      " 5   units_sold                    1341 non-null   int64  \n",
      " 6   uses_ad_boosts                1341 non-null   int64  \n",
      " 7   rating                        1341 non-null   float64\n",
      " 8   rating_count                  1341 non-null   int64  \n",
      " 9   rating_five_count             1341 non-null   float64\n",
      " 10  rating_four_count             1341 non-null   float64\n",
      " 11  rating_three_count            1341 non-null   float64\n",
      " 12  rating_two_count              1341 non-null   float64\n",
      " 13  rating_one_count              1341 non-null   float64\n",
      " 14  badges_count                  1341 non-null   int64  \n",
      " 15  badge_local_product           1341 non-null   int64  \n",
      " 16  badge_product_quality         1341 non-null   int64  \n",
      " 17  badge_fast_shipping           1341 non-null   int64  \n",
      " 18  tags                          1341 non-null   object \n",
      " 19  product_color                 1341 non-null   object \n",
      " 20  product_variation_size_id     1328 non-null   object \n",
      " 21  product_variation_inventory   1341 non-null   int64  \n",
      " 22  shipping_option_name          1341 non-null   object \n",
      " 23  shipping_option_price         1341 non-null   int64  \n",
      " 24  shipping_is_express           1341 non-null   int64  \n",
      " 25  countries_shipped_to          1341 non-null   int64  \n",
      " 26  inventory_total               1341 non-null   int64  \n",
      " 27  has_urgency_banner            1341 non-null   float64\n",
      " 28  urgency_text                  1341 non-null   object \n",
      " 29  origin_country                1341 non-null   object \n",
      " 30  merchant_title                1341 non-null   object \n",
      " 31  merchant_name                 1339 non-null   object \n",
      " 32  merchant_info_subtitle        1340 non-null   object \n",
      " 33  merchant_rating_count         1341 non-null   int64  \n",
      " 34  merchant_rating               1341 non-null   float64\n",
      " 35  merchant_id                   1341 non-null   object \n",
      " 36  merchant_has_profile_picture  1341 non-null   int64  \n",
      " 37  merchant_profile_picture      1341 non-null   object \n",
      " 38  product_url                   1341 non-null   object \n",
      " 39  product_picture               1341 non-null   object \n",
      " 40  product_id                    1341 non-null   object \n",
      " 41  theme                         1341 non-null   object \n",
      " 42  crawl_month                   1341 non-null   object \n",
      " 43  revenue                       1341 non-null   float64\n",
      "dtypes: float64(10), int64(15), object(19)\n",
      "memory usage: 471.4+ KB\n"
     ]
    },
    {
     "data": {
      "text/plain": [
       "52357352.45"
      ]
     },
     "execution_count": 15,
     "metadata": {},
     "output_type": "execute_result"
    }
   ],
   "source": [
    "#create a new column for revenue\n",
    "sales['revenue'] = sales['price']* sales['units_sold']\n",
    "sales.info()\n",
    "sales.revenue.sum()"
   ]
  },
  {
   "cell_type": "code",
   "execution_count": 16,
   "metadata": {},
   "outputs": [
    {
     "data": {
      "text/plain": [
       "6464509"
      ]
     },
     "execution_count": 16,
     "metadata": {},
     "output_type": "execute_result"
    }
   ],
   "source": [
    "sales.units_sold.sum()"
   ]
  },
  {
   "cell_type": "markdown",
   "metadata": {},
   "source": [
    "# 5. Color"
   ]
  },
  {
   "cell_type": "code",
   "execution_count": null,
   "metadata": {},
   "outputs": [],
   "source": [
    "# Change the column color to be more sycronized"
   ]
  },
  {
   "cell_type": "code",
   "execution_count": 17,
   "metadata": {},
   "outputs": [],
   "source": [
    "sales['product_color']=sales['product_color'].str.lower()"
   ]
  },
  {
   "cell_type": "code",
   "execution_count": 21,
   "metadata": {},
   "outputs": [
    {
     "data": {
      "text/plain": [
       "black         270\n",
       "white         211\n",
       "blue          138\n",
       "red           120\n",
       "green         114\n",
       "pink           96\n",
       "yellow         83\n",
       "grey           78\n",
       "purple         51\n",
       "dual           36\n",
       "beige          29\n",
       "orange         26\n",
       "print          20\n",
       "multicolor     18\n",
       "brown          11\n",
       "Name: product_color, dtype: int64"
      ]
     },
     "execution_count": 21,
     "metadata": {},
     "output_type": "execute_result"
    }
   ],
   "source": [
    "pd_colr= sales['product_color'].value_counts()\n",
    "pd_colr"
   ]
  },
  {
   "cell_type": "code",
   "execution_count": 19,
   "metadata": {},
   "outputs": [],
   "source": [
    "sales['product_color'] = sales['product_color'].replace('white & green', 'dual')\n",
    "sales['product_color'] = sales['product_color'].replace('black & white', 'dual')\n",
    "sales['product_color'] = sales['product_color'].replace('black & green', 'dual')\n",
    "sales['product_color'] = sales['product_color'].replace('black & yellow', 'dual')\n",
    "sales['product_color'] = sales['product_color'].replace('white & black', 'dual')\n",
    "sales['product_color'] = sales['product_color'].replace('navy blue', 'blue')\n",
    "sales['product_color'] = sales['product_color'].replace('burgundy', 'red')\n",
    "sales['product_color'] = sales['product_color'].replace('mintgreen', 'green')\n",
    "sales['product_color'] = sales['product_color'].replace('dustypink', 'pink')\n",
    "sales['product_color'] = sales['product_color'].replace('coolblack', 'black')\n",
    "sales['product_color'] = sales['product_color'].replace('black & blue', 'dual')\n",
    "sales['product_color'] = sales['product_color'].replace('lightyellow', 'yellow')\n",
    "sales['product_color'] = sales['product_color'].replace('pink & black', 'dual')\n",
    "sales['product_color'] = sales['product_color'].replace('pink & grey', 'dual')\n",
    "sales['product_color'] = sales['product_color'].replace('silver', 'grey')\n",
    "sales['product_color'] = sales['product_color'].replace('wine', 'red')\n",
    "sales['product_color'] = sales['product_color'].replace('whitefloral', 'print')\n",
    "sales['product_color'] = sales['product_color'].replace('blackwhite', 'dual')\n",
    "sales['product_color'] = sales['product_color'].replace('winered & yellow', 'dual')\n",
    "sales['product_color'] = sales['product_color'].replace('whitestripe', 'print')\n",
    "sales['product_color'] = sales['product_color'].replace('watermelonred', 'red')\n",
    "sales['product_color'] = sales['product_color'].replace('darkgreen', 'green')\n",
    "sales['product_color'] = sales['product_color'].replace('lightred', 'red')\n",
    "sales['product_color'] = sales['product_color'].replace('coralred', 'red')\n",
    "sales['product_color'] = sales['product_color'].replace('rainbow', 'print')\n",
    "sales['product_color'] = sales['product_color'].replace('lakeblue', 'blue')\n",
    "sales['product_color'] = sales['product_color'].replace('pink & blue', 'dual')\n",
    "sales['product_color'] = sales['product_color'].replace('lightgrey', 'grey')\n",
    "sales['product_color'] = sales['product_color'].replace('denimblue', 'blue')\n",
    "sales['product_color'] = sales['product_color'].replace('jasper', 'red')\n",
    "sales['product_color'] = sales['product_color'].replace('claret', 'red')\n",
    "sales['product_color'] = sales['product_color'].replace('nude', 'beige')\n",
    "sales['product_color'] = sales['product_color'].replace('tan', 'beige')\n",
    "sales['product_color'] = sales['product_color'].replace('offblack', 'black')\n",
    "sales['product_color'] = sales['product_color'].replace('violet', 'purple')\n",
    "sales['product_color'] = sales['product_color'].replace('lightkhaki', 'beige')\n",
    "sales['product_color'] = sales['product_color'].replace('lightgray', 'grey')\n",
    "sales['product_color'] = sales['product_color'].replace('star', 'print')\n",
    "sales['product_color'] = sales['product_color'].replace('greysnakeskinprint', 'print')\n",
    "sales['product_color'] = sales['product_color'].replace('leopardprint', 'print')\n",
    "sales['product_color'] = sales['product_color'].replace('wine red', 'red')\n",
    "sales['product_color'] = sales['product_color'].replace('black & stripe', 'print')\n",
    "sales['product_color'] = sales['product_color'].replace('red & blue', 'dual')\n",
    "sales['product_color'] = sales['product_color'].replace('blue & pink', 'dual')\n",
    "sales['product_color'] = sales['product_color'].replace('camel', 'beige')\n",
    "sales['product_color'] = sales['product_color'].replace('orange & camouflage', 'print')\n",
    "sales['product_color'] = sales['product_color'].replace('rosegold', 'pink')\n",
    "sales['product_color'] = sales['product_color'].replace('light green', 'green')\n",
    "sales['product_color'] = sales['product_color'].replace('gold', 'yellow')\n",
    "sales['product_color'] = sales['product_color'].replace('navyblue & white', 'dual')\n",
    "sales['product_color'] = sales['product_color'].replace('white & red', 'dual')\n",
    "sales['product_color'] = sales['product_color'].replace('rose red', 'red')\n",
    "sales['product_color'] = sales['product_color'].replace('ivory', 'white')\n",
    "sales['product_color'] = sales['product_color'].replace('pink & white', 'dual')\n",
    "sales['product_color'] = sales['product_color'].replace('applegreen', 'green')\n",
    "sales['product_color'] = sales['product_color'].replace('lightpurple', 'purple')\n",
    "sales['product_color'] = sales['product_color'].replace('brown & yellow', 'dual')\n",
    "sales['product_color'] = sales['product_color'].replace('gray & white', 'dual')\n",
    "sales['product_color'] = sales['product_color'].replace('prussianblue', 'blue')\n",
    "sales['product_color'] = sales['product_color'].replace('offwhite', 'white')\n",
    "sales['product_color'] = sales['product_color'].replace('army', 'green')\n",
    "sales['product_color'] = sales['product_color'].replace('armygreen', 'green')\n",
    "sales['product_color'] = sales['product_color'].replace('army green', 'green')\n",
    "sales['product_color'] = sales['product_color'].replace('navyblue', 'blue')\n",
    "sales['product_color'] = sales['product_color'].replace('black & green', 'dual')\n",
    "sales['product_color'] = sales['product_color'].replace('khaki', 'beige')\n",
    "sales['product_color'] = sales['product_color'].replace('lightblue', 'blue')\n",
    "sales['product_color'] = sales['product_color'].replace('gray', 'grey')\n",
    "sales['product_color'] = sales['product_color'].replace('rosered', 'red')\n",
    "sales['product_color'] = sales['product_color'].replace('skyblue', 'blue')\n",
    "sales['product_color'] = sales['product_color'].replace('coffee', 'brown')\n",
    "sales['product_color'] = sales['product_color'].replace('darkblue', 'blue')\n",
    "sales['product_color'] = sales['product_color'].replace('floral', 'print')\n",
    "sales['product_color'] = sales['product_color'].replace('rose', 'pink')\n",
    "sales['product_color'] = sales['product_color'].replace('lightpink', 'pink')\n",
    "sales['product_color'] = sales['product_color'].replace('navy', 'blue')\n",
    "sales['product_color'] = sales['product_color'].replace('leopard', 'print')\n",
    "sales['product_color'] = sales['product_color'].replace('fluorescentgreen', 'green')\n",
    "sales['product_color'] = sales['product_color'].replace('orange-red', 'dual')\n",
    "sales['product_color'] = sales['product_color'].replace('camouflage', 'print')\n",
    "sales['product_color'] = sales['product_color'].replace('lightgreen', 'green')\n",
    "sales['product_color'] = sales['product_color'].replace('winered', 'red')\n",
    "sales['product_color'] = sales['product_color'].replace('apricot', 'orange')\n",
    "\n",
    "\n",
    "pd_colr = sales['product_color'].value_counts()"
   ]
  },
  {
   "cell_type": "code",
   "execution_count": 20,
   "metadata": {},
   "outputs": [
    {
     "data": {
      "image/png": "[encoded data removed]",
      "text/plain": [
       "<Figure size 720x576 with 1 Axes>"
      ]
     },
     "metadata": {
      "needs_background": "light"
     },
     "output_type": "display_data"
    }
   ],
   "source": [
    "# Show Most popular colors\n",
    "fig_dims = (10, 8)\n",
    "fig, ax = plt.subplots(figsize=fig_dims)\n",
    "sns.countplot('product_color',\n",
    "              data = sales,\n",
    "              order = sales['product_color'].value_counts().index,\n",
    "              ax = ax)\n",
    "ax.set(xlabel='Product Color', ylabel='Count')\n",
    "plt.xticks(rotation=45, ha='right')\n",
    "plt.title(\"Most Popular Colors\", size=18)\n",
    "plt.show()"
   ]
  },
  {
   "cell_type": "markdown",
   "metadata": {},
   "source": [
    "# 6. Origin Country\n"
   ]
  },
  {
   "cell_type": "code",
   "execution_count": 22,
   "metadata": {},
   "outputs": [
    {
     "data": {
      "text/plain": [
       "array(['CN', 'US', 0, 'VE', 'AT', 'SG', 'GB'], dtype=object)"
      ]
     },
     "execution_count": 22,
     "metadata": {},
     "output_type": "execute_result"
    }
   ],
   "source": [
    "sales.origin_country.unique()"
   ]
  },
  {
   "cell_type": "code",
   "execution_count": 23,
   "metadata": {},
   "outputs": [],
   "source": [
    "sales['origin_country'] = sales['origin_country'].replace(0, 'Other')\n",
    "sales['origin_country'] = sales['origin_country'].replace('VE', 'Other')\n",
    "sales['origin_country'] = sales['origin_country'].replace('SG', 'Other')\n",
    "sales['origin_country'] = sales['origin_country'].replace('AT', 'Other')\n",
    "sales['origin_country'] = sales['origin_country'].replace('GB', 'Other')"
   ]
  },
  {
   "cell_type": "code",
   "execution_count": 24,
   "metadata": {},
   "outputs": [
    {
     "data": {
      "text/plain": [
       "Text(0.5, 1.0, 'Origin Company')"
      ]
     },
     "execution_count": 24,
     "metadata": {},
     "output_type": "execute_result"
    },
    {
     "data": {
      "image/png": "[encoded data removed]",
      "text/plain": [
       "<Figure size 576x576 with 1 Axes>"
      ]
     },
     "metadata": {
      "needs_background": "light"
     },
     "output_type": "display_data"
    }
   ],
   "source": [
    "fig_dims = (8, 8)\n",
    "fig, ax = plt.subplots(figsize=fig_dims)\n",
    "sns.countplot('origin_country',\n",
    "              data = sales,\n",
    "              ax = ax)\n",
    "plt.title(\"Origin Company\", size=18)"
   ]
  },
  {
   "cell_type": "markdown",
   "metadata": {},
   "source": [
    " most poducts come from china.  No further investigation needed.  May look into rate for US items to see if higher at later date."
   ]
  },
  {
   "cell_type": "markdown",
   "metadata": {},
   "source": [
    "# 7. Sizing"
   ]
  },
  {
   "cell_type": "code",
   "execution_count": 25,
   "metadata": {},
   "outputs": [],
   "source": [
    "pd.set_option('display.max_columns', None)\n",
    "pd.set_option('display.max_rows', None)"
   ]
  },
  {
   "cell_type": "code",
   "execution_count": 26,
   "metadata": {},
   "outputs": [
    {
     "data": {
      "text/plain": [
       "S                               556\n",
       "XS                              292\n",
       "M                               177\n",
       "XXS                              74\n",
       "L                                45\n",
       "XL                               15\n",
       "S.                               13\n",
       "XXL                              12\n",
       "XS.                               5\n",
       "XXXS                              5\n",
       "2XL                               4\n",
       "4XL                               4\n",
       "s                                 4\n",
       "33                                3\n",
       "Size-S                            3\n",
       "SIZE XS                           3\n",
       "10 ml                             3\n",
       "M.                                3\n",
       "Size S                            3\n",
       "34                                3\n",
       "Size-XS                           3\n",
       "SizeL                             2\n",
       "3XL                               2\n",
       "XXXXXL                            2\n",
       "29                                2\n",
       "Size -XXS                         2\n",
       "2pcs                              2\n",
       "35                                2\n",
       "EU 35                             2\n",
       "One Size                          2\n",
       "1                                 2\n",
       "XXXXL                             2\n",
       "Suit-S                            2\n",
       "Size M                            2\n",
       "B                                 1\n",
       "5XL                               1\n",
       "US-S                              1\n",
       "US5.5-EU35                        1\n",
       "Floating Chair for Kid            1\n",
       "100 cm                            1\n",
       "2                                 1\n",
       "S(bust 88cm)                      1\n",
       "SIZE-4XL                          1\n",
       "XXXL                              1\n",
       "first  generation                 1\n",
       "Size XXS                          1\n",
       "25-S                              1\n",
       "5PAIRS                            1\n",
       "1 PC - XL                         1\n",
       "Size-5XL                          1\n",
       "26(Waist 72cm 28inch)             1\n",
       "Size S.                           1\n",
       "S/M(child)                        1\n",
       "20PCS-10PAIRS                     1\n",
       "25                                1\n",
       "5                                 1\n",
       "S (waist58-62cm)                  1\n",
       "SIZE-XXS                          1\n",
       "S..                               1\n",
       "3 layered anklet                  1\n",
       "Base Coat                         1\n",
       "L.                                1\n",
       "Women Size 37                     1\n",
       "4-5 Years                         1\n",
       "S Diameter 30cm                   1\n",
       "Base & Top & Matte Top Coat       1\n",
       "S Pink                            1\n",
       "1pc                               1\n",
       "4                                 1\n",
       "Baby Float Boat                   1\n",
       "100pcs                            1\n",
       "Round                             1\n",
       "SIZE XXS                          1\n",
       "60                                1\n",
       "H01                               1\n",
       "Size4XL                           1\n",
       "100 x 100cm(39.3 x 39.3inch)      1\n",
       "40 cm                             1\n",
       "1m by 3m                          1\n",
       "AU plug Low quality               1\n",
       "US 6.5 (EU 37)                    1\n",
       "Size-XXS                          1\n",
       "pants-S                           1\n",
       "Pack of 1                         1\n",
       "Size--S                           1\n",
       "20pcs                             1\n",
       "30 cm                             1\n",
       "Women Size 36                     1\n",
       "Size-L                            1\n",
       "04-3XL                            1\n",
       "Size/S                            1\n",
       "6XL                               1\n",
       "17                                1\n",
       "80 X 200 CM                       1\n",
       "X   L                             1\n",
       "EU39(US8)                         1\n",
       "36                                1\n",
       "1 pc.                             1\n",
       "32/L                              1\n",
       "size S                            1\n",
       "White                             1\n",
       "10pcs                             1\n",
       "S(Pink & Black)                   1\n",
       "choose a size                     1\n",
       "daughter 24M                      1\n",
       "SIZE S                            1\n",
       "Name: product_variation_size_id, dtype: int64"
      ]
     },
     "execution_count": 26,
     "metadata": {},
     "output_type": "execute_result"
    }
   ],
   "source": [
    "#look through the sizes\n",
    "sales['product_variation_size_id'].value_counts()"
   ]
  },
  {
   "cell_type": "code",
   "execution_count": 27,
   "metadata": {},
   "outputs": [],
   "source": [
    "#replace the sizing to become more sync\n",
    "sales['product_variation_size_id'] = sales['product_variation_size_id'].replace('S.', 'S')\n",
    "sales['product_variation_size_id'] = sales['product_variation_size_id'].replace('Size S', 'S')\n",
    "sales['product_variation_size_id'] = sales['product_variation_size_id'].replace('s', 'S')\n",
    "sales['product_variation_size_id'] = sales['product_variation_size_id'].replace('XS.', 'XS')\n",
    "sales['product_variation_size_id'] = sales['product_variation_size_id'].replace('SIZE XS', 'XS')\n",
    "sales['product_variation_size_id'] = sales['product_variation_size_id'].replace('Size-XS', 'XS')\n",
    "sales['product_variation_size_id'] = sales['product_variation_size_id'].replace('M.', 'M')\n",
    "sales['product_variation_size_id'] = sales['product_variation_size_id'].replace('34', 'Other')\n",
    "sales['product_variation_size_id'] = sales['product_variation_size_id'].replace('33', 'Other')\n",
    "sales['product_variation_size_id'] = sales['product_variation_size_id'].replace('10 ml', 'Other')\n",
    "sales['product_variation_size_id'] = sales['product_variation_size_id'].replace('2pcs', 'Other')\n",
    "sales['product_variation_size_id'] = sales['product_variation_size_id'].replace('SizeL', 'L')\n",
    "sales['product_variation_size_id'] = sales['product_variation_size_id'].replace('Size-S', 'S')\n",
    "sales['product_variation_size_id'] = sales['product_variation_size_id'].replace('Size -XXS', 'XXS')\n",
    "sales['product_variation_size_id'] = sales['product_variation_size_id'].replace('1 pc.', 'Other')\n",
    "sales['product_variation_size_id'] = sales['product_variation_size_id'].replace('25', 'XS')\n",
    "sales['product_variation_size_id'] = sales['product_variation_size_id'].replace('Size M', 'M')\n",
    "sales['product_variation_size_id'] = sales['product_variation_size_id'].replace('S Pink', 'S')\n",
    "sales['product_variation_size_id'] = sales['product_variation_size_id'].replace('Size S.', 'S')\n",
    "sales['product_variation_size_id'] = sales['product_variation_size_id'].replace('One Size', 'Other')\n",
    "sales['product_variation_size_id'] = sales['product_variation_size_id'].replace('35', 'Other')\n",
    "sales['product_variation_size_id'] = sales['product_variation_size_id'].replace('SIZE-XXS', 'XXS')\n",
    "sales['product_variation_size_id'] = sales['product_variation_size_id'].replace('1', 'XS')\n",
    "sales['product_variation_size_id'] = sales['product_variation_size_id'].replace('Size4XL', '4XL')\n",
    "sales['product_variation_size_id'] = sales['product_variation_size_id'].replace('XXXXL', '4XL')\n",
    "sales['product_variation_size_id'] = sales['product_variation_size_id'].replace('29', 'M')\n",
    "sales['product_variation_size_id'] = sales['product_variation_size_id'].replace('EU 35', 'Other')\n",
    "sales['product_variation_size_id'] = sales['product_variation_size_id'].replace('size S', 'S')\n",
    "sales['product_variation_size_id'] = sales['product_variation_size_id'].replace('Suit-S', 'S')\n",
    "sales['product_variation_size_id'] = sales['product_variation_size_id'].replace('XXXXXL', '5XL')\n",
    "sales['product_variation_size_id'] = sales['product_variation_size_id'].replace('S(bust 88cm)', 'S')\n",
    "sales['product_variation_size_id'] = sales['product_variation_size_id'].replace('pants-S', 'S')\n",
    "sales['product_variation_size_id'] = sales['product_variation_size_id'].replace('Size-5XL', '5XL')\n",
    "sales['product_variation_size_id'] = sales['product_variation_size_id'].replace('SIZE S', 'S')\n",
    "sales['product_variation_size_id'] = sales['product_variation_size_id'].replace('XXXL', '3XL')\n",
    "sales['product_variation_size_id'] = sales['product_variation_size_id'].replace('S(Pink & Black)', 'S')\n",
    "sales['product_variation_size_id'] = sales['product_variation_size_id'].replace('26(Waist 72cm 28inch)','XS')\n",
    "sales['product_variation_size_id'] = sales['product_variation_size_id'].replace('1 PC - XL','XL')\n",
    "sales['product_variation_size_id'] = sales['product_variation_size_id'].replace('L.','L')\n",
    "sales['product_variation_size_id'] = sales['product_variation_size_id'].replace('32/L','L')\n",
    "sales['product_variation_size_id'] = sales['product_variation_size_id'].replace('4','S')\n",
    "sales['product_variation_size_id'] = sales['product_variation_size_id'].replace('S Diameter 30cm','S')\n",
    "sales['product_variation_size_id'] = sales['product_variation_size_id'].replace('SIZE/S', 'S')\n",
    "sales['product_variation_size_id'] = sales['product_variation_size_id'].replace('SIZE-XXS', 'XXS')\n",
    "sales['product_variation_size_id'] = sales['product_variation_size_id'].replace('SIZE XXS', 'XXS')\n",
    "sales['product_variation_size_id'] = sales['product_variation_size_id'].replace('EU39(US8)', 'M')\n",
    "sales['product_variation_size_id'] = sales['product_variation_size_id'].replace('S (waist58-62cm)', 'S')\n",
    "sales['product_variation_size_id'] = sales['product_variation_size_id'].replace('US-S', 'S')\n",
    "sales['product_variation_size_id'] = sales['product_variation_size_id'].replace('US--S', 'S')\n",
    "sales['product_variation_size_id'] = sales['product_variation_size_id'].replace('S..', 'S')\n",
    "sales['product_variation_size_id'] = sales['product_variation_size_id'].replace('X   L', 'XL')\n",
    "sales['product_variation_size_id'] = sales['product_variation_size_id'].replace('SIZE XXS', 'XXS')\n",
    "sales['product_variation_size_id'] = sales['product_variation_size_id'].replace('25-S', 'S')\n",
    "sales['product_variation_size_id'] = sales['product_variation_size_id'].replace('SIZE-4XL', '4XL')\n",
    "sales['product_variation_size_id'] = sales['product_variation_size_id'].replace('04-3XL', '3XL')\n",
    "sales['product_variation_size_id'] = sales['product_variation_size_id'].replace('XXL', '2XL')\n",
    "sales['product_variation_size_id'] = sales['product_variation_size_id'].replace('Size/S', 'S')\n",
    "sales['product_variation_size_id'] = sales['product_variation_size_id'].replace('Size XXS', 'XXS')\n",
    "sales['product_variation_size_id'] = sales['product_variation_size_id'].replace('Size--S', 'XXS')\n",
    "sales['product_variation_size_id'] = sales['product_variation_size_id'].replace('Size-L', 'L')\n",
    "sales['product_variation_size_id'] = sales['product_variation_size_id'].replace('Size-XXS', 'XXS')"
   ]
  },
  {
   "cell_type": "code",
   "execution_count": 28,
   "metadata": {},
   "outputs": [
    {
     "data": {
      "text/plain": [
       "S                               595\n",
       "XS                              307\n",
       "M                               185\n",
       "XXS                              81\n",
       "L                                50\n",
       "Other                            18\n",
       "XL                               17\n",
       "2XL                              16\n",
       "4XL                               8\n",
       "XXXS                              5\n",
       "5XL                               4\n",
       "3XL                               4\n",
       "4-5 Years                         1\n",
       "Floating Chair for Kid            1\n",
       "2                                 1\n",
       "Women Size 37                     1\n",
       "30 cm                             1\n",
       "B                                 1\n",
       "80 X 200 CM                       1\n",
       "5PAIRS                            1\n",
       "17                                1\n",
       "S/M(child)                        1\n",
       "20PCS-10PAIRS                     1\n",
       "5                                 1\n",
       "Base Coat                         1\n",
       "AU plug Low quality               1\n",
       "3 layered anklet                  1\n",
       "100 cm                            1\n",
       "6XL                               1\n",
       "US5.5-EU35                        1\n",
       "36                                1\n",
       "White                             1\n",
       "US 6.5 (EU 37)                    1\n",
       "1m by 3m                          1\n",
       "40 cm                             1\n",
       "H01                               1\n",
       "100 x 100cm(39.3 x 39.3inch)      1\n",
       "60                                1\n",
       "Round                             1\n",
       "100pcs                            1\n",
       "Baby Float Boat                   1\n",
       "Base & Top & Matte Top Coat       1\n",
       "1pc                               1\n",
       "20pcs                             1\n",
       "Women Size 36                     1\n",
       "daughter 24M                      1\n",
       "choose a size                     1\n",
       "Pack of 1                         1\n",
       "10pcs                             1\n",
       "first  generation                 1\n",
       "Name: product_variation_size_id, dtype: int64"
      ]
     },
     "execution_count": 28,
     "metadata": {},
     "output_type": "execute_result"
    }
   ],
   "source": [
    "sales['product_variation_size_id'].value_counts()"
   ]
  },
  {
   "cell_type": "code",
   "execution_count": 29,
   "metadata": {},
   "outputs": [],
   "source": [
    "#replace all non item things with 'other'\n",
    "def pr_var(name):\n",
    "    if name == 'XXXS' \\\n",
    "    or name == 'XXS' \\\n",
    "    or name == 'XS' \\\n",
    "    or name == 'S' \\\n",
    "    or name == 'M' \\\n",
    "    or name == 'L' \\\n",
    "    or name == 'XL' \\\n",
    "    or name == '2XL' \\\n",
    "    or name == '3XL' \\\n",
    "    or name == '4XL' \\\n",
    "    or name == '5XL' \\\n",
    "    or name == '6XL':\n",
    "        return name\n",
    "    else:\n",
    "        return \"OTHER\"\n",
    "    \n",
    "sales['product_variation_size_id'] = sales['product_variation_size_id'].replace(np.nan, 'OTHER')\n",
    "sales['product_variation_size_id'] = sales['product_variation_size_id'].apply(pr_var)"
   ]
  },
  {
   "cell_type": "code",
   "execution_count": 30,
   "metadata": {},
   "outputs": [
    {
     "data": {
      "text/plain": [
       "S        595\n",
       "XS       307\n",
       "M        185\n",
       "XXS       81\n",
       "OTHER     68\n",
       "L         50\n",
       "XL        17\n",
       "2XL       16\n",
       "4XL        8\n",
       "XXXS       5\n",
       "3XL        4\n",
       "5XL        4\n",
       "6XL        1\n",
       "Name: product_variation_size_id, dtype: int64"
      ]
     },
     "execution_count": 30,
     "metadata": {},
     "output_type": "execute_result"
    }
   ],
   "source": [
    "sales['product_variation_size_id'].value_counts()"
   ]
  },
  {
   "cell_type": "code",
   "execution_count": 31,
   "metadata": {},
   "outputs": [
    {
     "data": {
      "image/png": "[encoded data removed]",
      "text/plain": [
       "<Figure size 720x504 with 1 Axes>"
      ]
     },
     "metadata": {
      "needs_background": "light"
     },
     "output_type": "display_data"
    }
   ],
   "source": [
    "#count of size\n",
    "fig_dims = (10, 7)\n",
    "fig, ax = plt.subplots(figsize=fig_dims)\n",
    "sns.countplot('product_variation_size_id',\n",
    "              order = sales['product_variation_size_id'].value_counts().index,\n",
    "              data = sales,\n",
    "              ax = ax)\n",
    "ax.set(xlabel='Sizes', ylabel='Count')\n",
    "plt.title(\"Size Count\", size=18)\n",
    "plt.show()"
   ]
  },
  {
   "cell_type": "markdown",
   "metadata": {},
   "source": [
    "# 8. Units Sold"
   ]
  },
  {
   "cell_type": "code",
   "execution_count": 32,
   "metadata": {},
   "outputs": [
    {
     "data": {
      "text/plain": [
       "100       396\n",
       "1000      362\n",
       "5000      200\n",
       "10000     163\n",
       "20000      99\n",
       "50         50\n",
       "10         36\n",
       "50000      17\n",
       "100000      6\n",
       "1           3\n",
       "8           2\n",
       "7           2\n",
       "3           2\n",
       "2           2\n",
       "6           1\n",
       "Name: units_sold, dtype: int64"
      ]
     },
     "execution_count": 32,
     "metadata": {},
     "output_type": "execute_result"
    }
   ],
   "source": [
    "# bucket smaller counts into 10\n",
    "pr_unit = sales['units_sold'].value_counts()\n",
    "pr_unit"
   ]
  },
  {
   "cell_type": "code",
   "execution_count": 33,
   "metadata": {},
   "outputs": [],
   "source": [
    "# bucket smaller counts into 10 or below bucket\n",
    "def pr_units(item):\n",
    "    if item == 10 \\\n",
    "    or item == 50 \\\n",
    "    or item == 100 \\\n",
    "    or item == 1000 \\\n",
    "    or item == 5000 \\\n",
    "    or item == 10000 \\\n",
    "    or item == 20000 \\\n",
    "    or item == 50000 \\\n",
    "    or item == 100000:\n",
    "        return item\n",
    "    else:\n",
    "        return 10"
   ]
  },
  {
   "cell_type": "code",
   "execution_count": 34,
   "metadata": {},
   "outputs": [
    {
     "data": {
      "text/plain": [
       "100       396\n",
       "1000      362\n",
       "5000      200\n",
       "10000     163\n",
       "20000      99\n",
       "50         50\n",
       "10         48\n",
       "50000      17\n",
       "100000      6\n",
       "Name: units_sold, dtype: int64"
      ]
     },
     "execution_count": 34,
     "metadata": {},
     "output_type": "execute_result"
    }
   ],
   "source": [
    "sales['units_sold'] = sales['units_sold'].apply(pr_units)\n",
    "pr_unit = sales['units_sold'].value_counts()\n",
    "pr_unit"
   ]
  },
  {
   "cell_type": "code",
   "execution_count": 35,
   "metadata": {},
   "outputs": [
    {
     "data": {
      "image/png": "[encoded data removed]",
      "text/plain": [
       "<Figure size 432x288 with 1 Axes>"
      ]
     },
     "metadata": {
      "needs_background": "light"
     },
     "output_type": "display_data"
    }
   ],
   "source": [
    "# visuals of Units Sold\n",
    "fig_dims = (10, 8)\n",
    "sns.countplot('units_sold',\n",
    "              data = sales,\n",
    "              order = sales['units_sold'].value_counts().index,\n",
    "              ax = ax)\n",
    "plt.title(\"Units Sold Count\", size=18)\n",
    "plt.show()"
   ]
  },
  {
   "cell_type": "markdown",
   "metadata": {},
   "source": [
    "# 9. Popular product tags in Summer Women - 2020"
   ]
  },
  {
   "cell_type": "code",
   "execution_count": 36,
   "metadata": {},
   "outputs": [
    {
     "ename": "NameError",
     "evalue": "name 'sort_tag' is not defined",
     "output_type": "error",
     "traceback": [
      "\u001b[0;31m---------------------------------------------------------------------------\u001b[0m",
      "\u001b[0;31mNameError\u001b[0m                                 Traceback (most recent call last)",
      "\u001b[0;32m<ipython-input-36-6dddb27a15de>\u001b[0m in \u001b[0;36m<module>\u001b[0;34m\u001b[0m\n\u001b[1;32m      3\u001b[0m sns.barplot(x = 'keyword',\n\u001b[1;32m      4\u001b[0m             \u001b[0my\u001b[0m \u001b[0;34m=\u001b[0m \u001b[0;34m'count'\u001b[0m\u001b[0;34m,\u001b[0m\u001b[0;34m\u001b[0m\u001b[0;34m\u001b[0m\u001b[0m\n\u001b[0;32m----> 5\u001b[0;31m             \u001b[0mdata\u001b[0m \u001b[0;34m=\u001b[0m \u001b[0msort_tag\u001b[0m\u001b[0;34m.\u001b[0m\u001b[0miloc\u001b[0m\u001b[0;34m[\u001b[0m\u001b[0;34m:\u001b[0m\u001b[0;36m30\u001b[0m\u001b[0;34m]\u001b[0m\u001b[0;34m,\u001b[0m\u001b[0;34m\u001b[0m\u001b[0;34m\u001b[0m\u001b[0m\n\u001b[0m\u001b[1;32m      6\u001b[0m             ax = ax)\n\u001b[1;32m      7\u001b[0m \u001b[0max\u001b[0m\u001b[0;34m.\u001b[0m\u001b[0mset\u001b[0m\u001b[0;34m(\u001b[0m\u001b[0mxlabel\u001b[0m\u001b[0;34m=\u001b[0m\u001b[0;34m'Keyword'\u001b[0m\u001b[0;34m,\u001b[0m \u001b[0mylabel\u001b[0m\u001b[0;34m=\u001b[0m\u001b[0;34m'Count'\u001b[0m\u001b[0;34m)\u001b[0m\u001b[0;34m\u001b[0m\u001b[0;34m\u001b[0m\u001b[0m\n",
      "\u001b[0;31mNameError\u001b[0m: name 'sort_tag' is not defined"
     ]
    },
    {
     "data": {
      "image/png": "[encoded data removed]",
      "text/plain": [
       "<Figure size 1008x720 with 1 Axes>"
      ]
     },
     "metadata": {
      "needs_background": "light"
     },
     "output_type": "display_data"
    }
   ],
   "source": [
    "fig_dims = (14, 10)\n",
    "fig, ax = plt.subplots(figsize=fig_dims)\n",
    "sns.barplot(x = 'keyword',\n",
    "            y = 'count',\n",
    "            data = sort_tag.iloc[:30],\n",
    "            ax = ax)\n",
    "ax.set(xlabel='Keyword', ylabel='Count')\n",
    "plt.xticks(rotation=45, ha='right')\n",
    "plt.title(\"Product Tags Count\", size=18)\n",
    "plt.show()"
   ]
  },
  {
   "cell_type": "markdown",
   "metadata": {},
   "source": [
    "Created word cloud in tableou"
   ]
  },
  {
   "cell_type": "markdown",
   "metadata": {},
   "source": [
    "We can see that some words are repeating and we need to do some cleaning of the tags to fully understand the Tags"
   ]
  },
  {
   "cell_type": "markdown",
   "metadata": {},
   "source": [
    "# 10 Price Drop"
   ]
  },
  {
   "cell_type": "code",
   "execution_count": null,
   "metadata": {},
   "outputs": [],
   "source": [
    "sales['price_drop'] = sales[\"retail_price\"] * sales[\"price\"]\n",
    "sales.info()"
   ]
  },
  {
   "cell_type": "markdown",
   "metadata": {},
   "source": [
    "# Visualizations"
   ]
  },
  {
   "cell_type": "markdown",
   "metadata": {},
   "source": [
    "#visualized various variables together"
   ]
  },
  {
   "cell_type": "code",
   "execution_count": null,
   "metadata": {},
   "outputs": [],
   "source": [
    "# write the df to csv to put in tablou\n",
    "sales.to_csv('/Users/galvanize/Desktop/final_project/rev_summer.csv', index = False)\n"
   ]
  },
  {
   "cell_type": "markdown",
   "metadata": {},
   "source": [
    "# Visual: Color"
   ]
  },
  {
   "cell_type": "code",
   "execution_count": null,
   "metadata": {},
   "outputs": [],
   "source": [
    "sns.set(rc={'figure.figsize': (14, 8)})\n",
    "sns.set_style(\"whitegrid\")\n",
    "\n",
    "sns.barplot(x = 'product_color', y = 'revenue', data=sales, ci=False)\n",
    "\n",
    "plt.title(\"Colors Sold\", size=18)\n",
    "plt.show()"
   ]
  },
  {
   "cell_type": "code",
   "execution_count": null,
   "metadata": {},
   "outputs": [],
   "source": [
    "sns.set(rc={'figure.figsize': (14, 8)})\n",
    "sns.set_style(\"whitegrid\")\n",
    "\n",
    "sns.barplot(x = 'product_color', y = 'units_sold', data=sales, ci=False)\n",
    "\n",
    "plt.title(\"Color Sold\", size=18)\n",
    "plt.show()"
   ]
  },
  {
   "cell_type": "markdown",
   "metadata": {},
   "source": [
    "# Visual: Size"
   ]
  },
  {
   "cell_type": "code",
   "execution_count": null,
   "metadata": {
    "scrolled": false
   },
   "outputs": [],
   "source": [
    "sns.set(rc={'figure.figsize': (14, 8)})\n",
    "sns.set_style(\"whitegrid\")\n",
    "\n",
    "sns.barplot(x = 'product_variation_size_id', y = 'revenue', data=sales, ci=False)\n",
    "plt.title(\"Size Sold\", size=18)\n",
    "plt.show()"
   ]
  },
  {
   "cell_type": "code",
   "execution_count": null,
   "metadata": {},
   "outputs": [],
   "source": [
    "sns.barplot(x = 'product_variation_size_id', y = 'units_sold', data=sales, ci=False)\n",
    "\n",
    "plt.title(\"Size\", size=18)\n",
    "plt.show()"
   ]
  },
  {
   "cell_type": "markdown",
   "metadata": {},
   "source": [
    "# Visualize: KPI ( Revenue, Units Sold, Price, Retail Price)"
   ]
  },
  {
   "cell_type": "code",
   "execution_count": null,
   "metadata": {},
   "outputs": [],
   "source": [
    "#Total Revenue\n",
    "sales.revenue.sum()"
   ]
  },
  {
   "cell_type": "code",
   "execution_count": null,
   "metadata": {},
   "outputs": [],
   "source": [
    "#Total Units Sold\n",
    "sales.units_sold.sum()"
   ]
  },
  {
   "cell_type": "code",
   "execution_count": null,
   "metadata": {},
   "outputs": [],
   "source": [
    "# on average 8.099111226096668 revenue was produced per item sold"
   ]
  },
  {
   "cell_type": "code",
   "execution_count": null,
   "metadata": {},
   "outputs": [],
   "source": [
    "# UNITS SOLD\n",
    "sns.set(rc={'figure.figsize': (10,4)})\n",
    "sns.set_style(\"whitegrid\")\n",
    "\n",
    "# mean\n",
    "mean10 = sales['units_sold'].mean()\n",
    "plt.axvline(mean10,0, 1, color = 'black')\n",
    "\n",
    "sns.distplot(sales['units_sold'], kde=True, color='g')\n",
    "plt.title(\"Distribution of Units Sold\", size=18)\n",
    "\n",
    "plt.show()\n",
    "print(mean10)"
   ]
  },
  {
   "cell_type": "code",
   "execution_count": null,
   "metadata": {},
   "outputs": [],
   "source": []
  },
  {
   "cell_type": "code",
   "execution_count": null,
   "metadata": {},
   "outputs": [],
   "source": [
    "sns.set(rc={'figure.figsize': (16,3)})\n",
    "aa= sales['units_sold'].values\n",
    "\n",
    "sns.boxplot(aa)"
   ]
  },
  {
   "cell_type": "code",
   "execution_count": null,
   "metadata": {
    "scrolled": true
   },
   "outputs": [],
   "source": [
    "# Price\n",
    "sns.set(rc={'figure.figsize': (10,4)})\n",
    "sns.set_style(\"whitegrid\")\n",
    "\n",
    "a = sales['price'].values\n",
    "sns.distplot(a, color='#0098D3')\n",
    "\n",
    "# mean\n",
    "mean = sales['price'].mean()\n",
    "plt.axvline(mean,0, 1, color = '#AFC7D1')\n",
    "\n",
    "plt.xlabel(\"Price\", size=15)\n",
    "plt.title(\"Distribution of Price\", size=18)\n",
    "\n",
    "plt.tight_layout()\n",
    "print(mean)"
   ]
  },
  {
   "cell_type": "code",
   "execution_count": null,
   "metadata": {},
   "outputs": [],
   "source": [
    "sns.set(rc={'figure.figsize': (16,3)})\n",
    "sns.boxplot(a)\n"
   ]
  },
  {
   "cell_type": "code",
   "execution_count": null,
   "metadata": {},
   "outputs": [],
   "source": [
    "#RETAIL PRICE\n",
    "sns.set(rc={'figure.figsize': (10,5)})\n",
    "sns.set_style(\"whitegrid\")\n",
    "\n",
    "b = sales['retail_price'].values\n",
    "sns.distplot(b, color='#0098D3')\n",
    "\n",
    "# Calculating the mean\n",
    "mean1 = sales['retail_price'].mean()\n",
    "plt.axvline(mean1,0, 1, color = '#192A32')\n",
    "\n",
    "plt.xlabel(\"Retail Price\", size=15)\n",
    "plt.title(\"Distribution of Retail_Price\", size=18)\n",
    "\n",
    "plt.tight_layout()\n",
    "\n",
    "print (mean1)"
   ]
  },
  {
   "cell_type": "code",
   "execution_count": null,
   "metadata": {},
   "outputs": [],
   "source": [
    "sns.set(rc={'figure.figsize': (16,3)})\n",
    "sns.boxplot(b)\n"
   ]
  },
  {
   "cell_type": "markdown",
   "metadata": {},
   "source": [
    "# Visual: Retail price Vs Price \n"
   ]
  },
  {
   "cell_type": "code",
   "execution_count": null,
   "metadata": {},
   "outputs": [],
   "source": [
    "sns.set(rc={'figure.figsize': (10, 8)})\n",
    "sns.set_style(\"whitegrid\")"
   ]
  },
  {
   "cell_type": "code",
   "execution_count": null,
   "metadata": {},
   "outputs": [],
   "source": []
  },
  {
   "cell_type": "code",
   "execution_count": null,
   "metadata": {},
   "outputs": [],
   "source": [
    "#Concentration of Retail price vs Price\n",
    "sns.jointplot(x='price', y='retail_price', data=sales, kind='kde', xlim=(0,20), ylim=(-5,35), height=7)\n"
   ]
  },
  {
   "cell_type": "code",
   "execution_count": null,
   "metadata": {},
   "outputs": [],
   "source": [
    "sns.scatterplot(x = 'price' , y = 'retail_price', data = sales, hue = 'units_sold', \n",
    "                    size = 'revenue', sizes = (20, 200),  palette = 'Dark2_r' )\n",
    "\n",
    "plt.title(\"Price in relation to Revenue and units sold \", size=18)\n",
    "\n",
    "plt.tight_layout()"
   ]
  },
  {
   "cell_type": "code",
   "execution_count": null,
   "metadata": {},
   "outputs": [],
   "source": [
    "bf = sns.lmplot(x = \"price\", y = \"retail_price\", data = sales, height = 10, aspect = 1)\n"
   ]
  },
  {
   "cell_type": "code",
   "execution_count": null,
   "metadata": {},
   "outputs": [],
   "source": [
    "sns.lmplot(x = 'price' , y = 'retail_price', data = sales, hue = 'units_sold',height = 10, aspect = 1)\n",
    "\n",
    "plt.title(\"Distribution of Retail_Price and Units Sold\", size=18)\n",
    "\n",
    "plt.tight_layout()"
   ]
  },
  {
   "cell_type": "markdown",
   "metadata": {},
   "source": [
    "Most items were place at a retail price between 6-8 eur with a price of 5-9 and 11-12.50 eru. \n",
    "\n",
    "Retail Price doesn't seems to make a difference in price\n",
    "\n",
    "Price is not a normal distibution.\n",
    "Retail price is normal distribution\n",
    "\n",
    "Seems to be very little change from retail to price "
   ]
  },
  {
   "cell_type": "markdown",
   "metadata": {},
   "source": [
    "# Visual Shipping"
   ]
  },
  {
   "cell_type": "code",
   "execution_count": null,
   "metadata": {},
   "outputs": [],
   "source": [
    "# SHIPPING PRICE\n",
    "sns.set(rc={'figure.figsize': (10,3)})\n",
    "sns.set_style(\"whitegrid\")\n",
    "\n",
    "c= sales['shipping_option_price'].values\n",
    "\n",
    "# mean\n",
    "mean2 = sales['shipping_option_price'].mean()\n",
    "plt.axvline(mean2,0, 1, color = 'black')\n",
    "\n",
    "sns.distplot(c, color='green')\n",
    "plt.xlabel(\"Distribution of Shipping Price\", size=15)\n",
    "plt.tight_layout()"
   ]
  },
  {
   "cell_type": "code",
   "execution_count": null,
   "metadata": {},
   "outputs": [],
   "source": [
    "sns.set(rc={'figure.figsize': (14, 8)})\n",
    "sns.set_style(\"whitegrid\")"
   ]
  },
  {
   "cell_type": "code",
   "execution_count": null,
   "metadata": {},
   "outputs": [],
   "source": [
    "sns.countplot('shipping_option_price',\n",
    "              data = sales,\n",
    "              order = sales['shipping_option_price'].value_counts().iloc[:15].index)\n",
    "ax.set(xlabel='shipping_option_price', ylabel='Count')\n",
    "plt.title(\"Shipping Price\", size=18)\n",
    "\n",
    "plt.tight_layout()"
   ]
  },
  {
   "cell_type": "code",
   "execution_count": null,
   "metadata": {},
   "outputs": [],
   "source": [
    "sns.barplot(x = 'shipping_option_price', y = 'units_sold',data=sales, ci= False)\n",
    "plt.title(\"Units sold at different Shipping Prices\", size=18)\n",
    "\n",
    "plt.tight_layout()"
   ]
  },
  {
   "cell_type": "markdown",
   "metadata": {},
   "source": [
    "Most items where sold with 1 2 3 or 6 dollar price for shipping"
   ]
  },
  {
   "cell_type": "code",
   "execution_count": null,
   "metadata": {},
   "outputs": [],
   "source": [
    "cc = sns.barplot(x = 'shipping_option_price', y = 'revenue',data=sales, ci= False)\n",
    "plt.title(\"Revenue at different Shipping Prices\", size=18)\n",
    "\n",
    "plt.tight_layout()"
   ]
  },
  {
   "cell_type": "markdown",
   "metadata": {},
   "source": [
    "over 80000 eau was made with the shipping price being 6 eau"
   ]
  },
  {
   "cell_type": "code",
   "execution_count": null,
   "metadata": {},
   "outputs": [],
   "source": [
    "sales['shipping_option_name'].value_counts()"
   ]
  },
  {
   "cell_type": "code",
   "execution_count": null,
   "metadata": {},
   "outputs": [],
   "source": [
    "sales['shipping_option_price'].value_counts()"
   ]
  },
  {
   "cell_type": "markdown",
   "metadata": {},
   "source": [
    "# Merchant"
   ]
  },
  {
   "cell_type": "markdown",
   "metadata": {},
   "source": [
    "Created visual for Top Merchant in Tableau"
   ]
  },
  {
   "cell_type": "code",
   "execution_count": null,
   "metadata": {},
   "outputs": [],
   "source": [
    "sales.info()"
   ]
  },
  {
   "cell_type": "code",
   "execution_count": null,
   "metadata": {},
   "outputs": [],
   "source": [
    "# created data table \n",
    "tag_per_product = pd.read_csv('/Users/galvanize/Desktop/final_project/tags_value_per_product.csv')"
   ]
  },
  {
   "cell_type": "code",
   "execution_count": null,
   "metadata": {},
   "outputs": [],
   "source": [
    "sns.set(rc={'figure.figsize': (10,7)})\n",
    "sns.set_style(\"whitegrid\")"
   ]
  },
  {
   "cell_type": "code",
   "execution_count": null,
   "metadata": {},
   "outputs": [],
   "source": [
    "gg= tag_per_product['tags_value'].values\n",
    "\n",
    "# Calculating the mean\n",
    "mean1 = tag_per_product['tags_value'].mean()\n",
    "\n",
    "sns.distplot(gg, color='blue')\n",
    "\n",
    "# plotting the mean\n",
    "\n",
    "plt.axvline(mean1,0, 1, color = 'red')\n",
    "\n",
    "plt.title(\"Distribution of Tags\", size=15)\n",
    "plt.xlabel(\"Number of Tags\", size=10)\n",
    "plt.tight_layout()"
   ]
  },
  {
   "cell_type": "markdown",
   "metadata": {},
   "source": [
    "# Badges"
   ]
  },
  {
   "cell_type": "code",
   "execution_count": null,
   "metadata": {},
   "outputs": [],
   "source": [
    "fig_dims = (8, 8)\n",
    "fig, ax = plt.subplots(figsize=fig_dims)\n",
    "sns.countplot('badges_count',\n",
    "              data = sales,\n",
    "              ax = ax)\n",
    "plt.title(\"Number of Badges\", size=18)"
   ]
  },
  {
   "cell_type": "markdown",
   "metadata": {},
   "source": [
    "Since most rows have no badges I don't think that badges are improtant to growth "
   ]
  },
  {
   "cell_type": "code",
   "execution_count": null,
   "metadata": {},
   "outputs": [],
   "source": []
  },
  {
   "cell_type": "markdown",
   "metadata": {},
   "source": [
    "# Rating"
   ]
  },
  {
   "cell_type": "code",
   "execution_count": null,
   "metadata": {},
   "outputs": [],
   "source": []
  },
  {
   "cell_type": "code",
   "execution_count": null,
   "metadata": {},
   "outputs": [],
   "source": [
    "#Distribution and Mean\n",
    "sns.set(rc={'figure.figsize': (10,3)})\n",
    "sns.set_style(\"whitegrid\")\n",
    "\n",
    "t= sales['rating'].values\n",
    "\n",
    "# mean\n",
    "mean3 = sales['rating'].mean()\n",
    "plt.axvline(mean3,0, 1, color = 'black')\n",
    "mean3\n",
    "sns.distplot(t, color='green')\n",
    "plt.xlabel(\"Distribution Rating\", size=15)\n",
    "plt.tight_layout()\n",
    "\n",
    "print (mean3)"
   ]
  },
  {
   "cell_type": "code",
   "execution_count": null,
   "metadata": {},
   "outputs": [],
   "source": [
    "ba =sns.scatterplot(x = 'rating' , y = 'revenue', data = sales, color = 'green', marker = \"p\")\n",
    "\n",
    "plt.xlabel(\"Distribution Ratings by Revenue \", size=15)\n",
    "plt.tight_layout()"
   ]
  },
  {
   "cell_type": "code",
   "execution_count": null,
   "metadata": {},
   "outputs": [],
   "source": [
    "bb =sns.scatterplot(x = 'rating' , y = 'units_sold', data = sales, color = '#0098D3', marker = \"p\")\n",
    "\n",
    "plt.xlabel(\"Distribution Ratings by units sold\", size=15)\n",
    "plt.tight_layout()"
   ]
  },
  {
   "cell_type": "code",
   "execution_count": null,
   "metadata": {
    "scrolled": true
   },
   "outputs": [],
   "source": [
    "bc =sns.scatterplot(x = 'rating' , y = 'price', data = sales, color = 'blue', marker = \"p\")\n",
    "\n",
    "plt.xlabel(\"Distribution of Rating by Price \", size=15)\n",
    "plt.tight_layout()"
   ]
  },
  {
   "cell_type": "markdown",
   "metadata": {},
   "source": [
    "# Visual: Inventory"
   ]
  },
  {
   "cell_type": "code",
   "execution_count": null,
   "metadata": {},
   "outputs": [],
   "source": [
    "sales.inventory_total.value_counts()"
   ]
  },
  {
   "cell_type": "code",
   "execution_count": null,
   "metadata": {},
   "outputs": [],
   "source": [
    "sns.set(rc={'figure.figsize': (10,3)})\n",
    "sns.set_style(\"whitegrid\")\n",
    "\n",
    "k= sales['inventory_total'].values\n",
    "\n",
    "# mean\n",
    "mean5 = sales['inventory_total'].mean()\n",
    "plt.axvline(mean2,0, 1, color = 'black')\n",
    "\n",
    "sns.distplot(k, color='green')\n",
    "\n",
    "plt.xlabel(\"Distribution of Inventory\", size=15)\n",
    "plt.tight_layout()\n",
    "\n",
    "print (mean5)"
   ]
  },
  {
   "cell_type": "markdown",
   "metadata": {},
   "source": [
    "All of the merchants have an inveotry of 50 or 0.  Having invetory is a good thing to have if you want to be a top merchant."
   ]
  },
  {
   "cell_type": "markdown",
   "metadata": {},
   "source": [
    "# Visual: Use Ad Boost"
   ]
  },
  {
   "cell_type": "code",
   "execution_count": null,
   "metadata": {},
   "outputs": [],
   "source": [
    "sns.set(rc={'figure.figsize': (10,3)})\n",
    "sns.set_style(\"whitegrid\")\n",
    "\n",
    "uab= sales['uses_ad_boosts'].values\n",
    "\n",
    "# mean\n",
    "mean8 = sales['uses_ad_boosts'].mean()\n",
    "plt.axvline(mean8,0, 1, color = 'black')\n",
    "\n",
    "sns.distplot(uab, color='green')\n",
    "\n",
    "plt.xlabel(\"Distribution on Use of AD Boost\", size=15)\n",
    "plt.tight_layout()\n",
    "\n",
    "print (mean8)"
   ]
  },
  {
   "cell_type": "code",
   "execution_count": null,
   "metadata": {},
   "outputs": [],
   "source": [
    "sales.info()"
   ]
  },
  {
   "cell_type": "code",
   "execution_count": null,
   "metadata": {},
   "outputs": [],
   "source": [
    "looks like we are split on if ad boost work to increase a product creating revenue.  "
   ]
  },
  {
   "cell_type": "markdown",
   "metadata": {},
   "source": [
    "# Linear Regression: Units Sold"
   ]
  },
  {
   "cell_type": "code",
   "execution_count": null,
   "metadata": {},
   "outputs": [],
   "source": [
    "import pandas as pd\n",
    "import numpy as np\n",
    "import statsmodels.formula.api as smf\n",
    "import seaborn as sns\n",
    "from sklearn.metrics import r2_score, mean_squared_error\n",
    "import matplotlib.pyplot as plt\n",
    "from pandas.plotting import scatter_matrix\n",
    "import warnings\n",
    "warnings.filterwarnings('ignore')\n",
    "warnings.simplefilter('ignore')"
   ]
  },
  {
   "cell_type": "code",
   "execution_count": null,
   "metadata": {},
   "outputs": [],
   "source": [
    "# A. train/test split is done using sklearn\n",
    "from sklearn.model_selection import train_test_split"
   ]
  },
  {
   "cell_type": "code",
   "execution_count": null,
   "metadata": {},
   "outputs": [],
   "source": [
    "x = sales[['units_sold','price','product_color', 'retail_price','product_variation_size_id']]"
   ]
  },
  {
   "cell_type": "code",
   "execution_count": null,
   "metadata": {},
   "outputs": [],
   "source": [
    "y = sales['merchant_rating']"
   ]
  },
  {
   "cell_type": "code",
   "execution_count": null,
   "metadata": {},
   "outputs": [],
   "source": [
    "x_train, x_test, y_train, y_test = train_test_split(x,y,test_size = 0.2)"
   ]
  },
  {
   "cell_type": "code",
   "execution_count": null,
   "metadata": {},
   "outputs": [],
   "source": [
    "sales_tr = pd.concat([x_train, y_train], axis = 1)\n",
    "sales_tr.info()"
   ]
  },
  {
   "cell_type": "code",
   "execution_count": null,
   "metadata": {},
   "outputs": [],
   "source": [
    "sns.pairplot(sales_tr)"
   ]
  },
  {
   "cell_type": "code",
   "execution_count": null,
   "metadata": {},
   "outputs": [],
   "source": [
    "sns.scatterplot(x = 'merchant_rating' , y = 'units_sold', data = sales_tr)\n",
    "#products with the highest revenue had a high rating"
   ]
  },
  {
   "cell_type": "code",
   "execution_count": null,
   "metadata": {},
   "outputs": [],
   "source": [
    "# C. Make a linear regression model from the training data of sepal_length based on the other four variables "
   ]
  },
  {
   "cell_type": "code",
   "execution_count": null,
   "metadata": {},
   "outputs": [],
   "source": [
    "sales_tr"
   ]
  },
  {
   "cell_type": "code",
   "execution_count": null,
   "metadata": {},
   "outputs": [],
   "source": [
    "sales_lm = smf.ols(formula='merchant_rating  ~  C(units_sold) +retail_price + C(product_color)+ C(product_variation_size_id)', data=sales_tr).fit()\n",
    "\n",
    "sales_lm.summary()"
   ]
  },
  {
   "cell_type": "code",
   "execution_count": null,
   "metadata": {},
   "outputs": [],
   "source": [
    "sales_lm.params"
   ]
  },
  {
   "cell_type": "code",
   "execution_count": null,
   "metadata": {},
   "outputs": [],
   "source": [
    "#D. Make a linear regression model from the training data of petal_width based on the other four variables "
   ]
  },
  {
   "cell_type": "code",
   "execution_count": null,
   "metadata": {},
   "outputs": [],
   "source": [
    "sales_ts = pd.concat([x_test, y_test], axis = 1)\n",
    "sales_ts.info()"
   ]
  },
  {
   "cell_type": "code",
   "execution_count": null,
   "metadata": {},
   "outputs": [],
   "source": [
    "predictions= sales_lm.predict(sales_ts)"
   ]
  },
  {
   "cell_type": "code",
   "execution_count": null,
   "metadata": {},
   "outputs": [],
   "source": [
    "predictions"
   ]
  },
  {
   "cell_type": "code",
   "execution_count": null,
   "metadata": {},
   "outputs": [],
   "source": [
    "from sklearn.linear_model import LinearRegression"
   ]
  },
  {
   "cell_type": "code",
   "execution_count": null,
   "metadata": {},
   "outputs": [],
   "source": [
    "#E. Compute the mean_squared_error and r2_score using the test data for your models from C) and D) above"
   ]
  },
  {
   "cell_type": "code",
   "execution_count": null,
   "metadata": {},
   "outputs": [],
   "source": [
    "r2_score(sales_ts['merchant_rating'], predictions)"
   ]
  },
  {
   "cell_type": "code",
   "execution_count": null,
   "metadata": {},
   "outputs": [],
   "source": [
    "mean_squared_error(sales_ts['merchant_rating'], predictions)"
   ]
  },
  {
   "cell_type": "code",
   "execution_count": null,
   "metadata": {},
   "outputs": [],
   "source": []
  }
 ],
 "metadata": {
  "kernelspec": {
   "display_name": "Python 3",
   "language": "python",
   "name": "python3"
  },
  "language_info": {
   "codemirror_mode": {
    "name": "ipython",
    "version": 3
   },
   "file_extension": ".py",
   "mimetype": "text/x-python",
   "name": "python",
   "nbconvert_exporter": "python",
   "pygments_lexer": "ipython3",
   "version": "3.7.7"
  }
 },
 "nbformat": 4,
 "nbformat_minor": 4
}
